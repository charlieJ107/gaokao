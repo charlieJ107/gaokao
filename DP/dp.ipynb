{
 "metadata": {
  "language_info": {
   "codemirror_mode": {
    "name": "ipython",
    "version": 3
   },
   "file_extension": ".py",
   "mimetype": "text/x-python",
   "name": "python",
   "nbconvert_exporter": "python",
   "pygments_lexer": "ipython3",
   "version": "3.7.5-final"
  },
  "orig_nbformat": 2,
  "kernelspec": {
   "name": "python_defaultSpec_1595739840643",
   "display_name": "Python 3.7.5 64-bit ('dpevb': venv)"
  }
 },
 "nbformat": 4,
 "nbformat_minor": 2,
 "cells": [
  {
   "cell_type": "code",
   "execution_count": 1,
   "metadata": {},
   "outputs": [],
   "source": [
    "import re"
   ]
  },
  {
   "cell_type": "code",
   "execution_count": null,
   "metadata": {},
   "outputs": [],
   "source": [
    "def checkFnhao(dirty):\n",
    "    #先确认是不是真的丢失了分号,,先把上次的东西弄出来\n",
    "    groups=re.match(patten1, dirty).groups()\n",
    "    checkString=groups[0]\n",
    "    checkString=checkString[::-1]\n",
    "    lossFenHaoObj=re.match(patten4, checkString)\n",
    "    if lossFenHaoObj !=None:\n",
    "        #说明前一个正常, 且确实和后一个中间少了分号\n",
    "        #先把前一个正常的拿出来\n",
    "        yesGroup1=(lossFenHaoObj.groups(2), lossFenHaoObj.groups(1))\n",
    "        print(yesGroup1)\n",
    "        \n",
    "        # 然后把后面这个取出来\n",
    "\n",
    "        return (yesGroup1, yesGroup2)"
   ]
  },
  {
   "cell_type": "code",
   "execution_count": 2,
   "metadata": {},
   "outputs": [],
   "source": [
    "beautifulString=\"\"\n",
    "groupWait2Write=\"\""
   ]
  },
  {
   "cell_type": "code",
   "execution_count": 3,
   "metadata": {},
   "outputs": [],
   "source": [
    "patten1=\"[^\\u002E;0-9]*((\\d{3})[^0-9]{0,2}(\\d*)).+\"\n",
    "patten2=\"[;\\s]+((\\d{3})[^0-9]{0,2}(\\d{0,2})).*\"\n",
    "patten3=\"[(\\n.)]\"\n",
    "patten5=\"[^0-9]*(\\d*:\\d{3}).*\""
   ]
  },
  {
   "cell_type": "code",
   "execution_count": 4,
   "metadata": {},
   "outputs": [],
   "source": [
    "dirty=\"601:1;597:1;5881;587:1;585:1581:1; 580:4;\\n579:1577:1;576:1;575:4;574 1;570:1;568:1;\\n567:3;.566:2;565:2;564:6;563:3;562:3;561:4;\\n560:2;559:6;558:4;557:7;556:6;555:4;554:4;\\n553:4;552:3;551:7;550:2;549:4;548:6;547:9;\\n546:1;545:3;544:4;543:8;542:4;541:3.\\n601:1.\\n558:1;551:1.\\n557:1;55:1;550:1.\\n556:1;554:2.\\n587:1;580:1.\\n548:1.\\n575:1;567:1.\\n556:1.\\n553:1;549:1.\\n543:1;541:1.\\n559:1;557:2;556:1555:1;553:1550:1;548:1.\\n580:1;562:1;561:1;557:1;554:1;552.2;547:2;\\n546:1;544:2;543:1;542:1.\\n575:3;574:1;565:1;564:1;559:1.\\n553:1;547:1;544:1.\\n568:1;564:1;563:1;561:1;559:1.\\n559 2\\n548:1;547:1.\\n542:1;541:1.\\n597:1;588:1;585:1;581:1;580:2;577:1;576:1;\\n566:1.\\n567:1;561:1;557:1555:1.\\n566:1;564:1;559:1;558:2;557:1;556:1;555:1;\\n551:2;549:1;545:1.\\n567:1;565:1;564:2;563:1;562:1;560:2;557:1.\\n556:1;548:2\\n553:1;551:2;549:1;548:1;547:1;545:2;544:1;\\n 543:5;542:2;541:1.\\n547:1\\n579:1;570:1;564:1;563:1;562:1;561:1;558:1;\\n556:1;554:1;551:1;547:2.\\n552:1;551:1;549:1.\\n556:1;555:1;553:1;549:3.\\n556:1;549:1.\\n555:1;553:1;549:1.\\n549:1.\""
   ]
  },
  {
   "cell_type": "code",
   "execution_count": 5,
   "metadata": {
    "tags": []
   },
   "outputs": [
    {
     "output_type": "stream",
     "name": "stdout",
     "text": "('601:1', '601', '1')\n"
    }
   ],
   "source": [
    "matchObj=re.match(patten1, dirty)\n",
    "if matchObj==None:\n",
    "    print(matchObj)\n",
    "else:\n",
    "    print(matchObj.groups())"
   ]
  },
  {
   "cell_type": "code",
   "execution_count": null,
   "metadata": {
    "tags": []
   },
   "outputs": [],
   "source": [
    "print(matchObj.group(0))\n",
    "print(matchObj.group(1))\n",
    "print(matchObj.group(2))\n",
    "print(matchObj.group(3))"
   ]
  },
  {
   "cell_type": "code",
   "execution_count": null,
   "metadata": {
    "tags": []
   },
   "outputs": [],
   "source": [
    "    #本次匹配成功,, 可以把上一次匹配的东西写进去了\n",
    "    beautifulString+=groupWait2Write\n",
    "\n",
    "    print(matchObj.groups())\n",
    "    # 暂时先把这次匹配的组存起来, 如果下次匹配没问题, 就可以把这次匹配的组写进去\n",
    "    backupstring=dirty[0:dirty.find(matchObj.group(1))+len(matchObj.group(1))+1]\n",
    "    print(\"==============\")\n",
    "    print(backupstring)\n",
    "    print(\"================\")\n",
    "    groupWait2Write=matchObj.group(2)+':'+matchObj.group(3)+';'\n",
    "    print(\"===========\")\n",
    "    print(groupWait2Write)\n",
    "    print(\"===========\")\n",
    "\n",
    "    #把这次匹配的东西先截掉, 准备下一次匹配\n",
    "    index=dirty.find(matchObj.group(1))\n",
    "    dirty=dirty[index+len(matchObj.group(1))+1:]\n",
    "    print(dirty)"
   ]
  },
  {
   "cell_type": "code",
   "execution_count": null,
   "metadata": {},
   "outputs": [],
   "source": [
    "    #正常匹配的东西失配, 开始进行第一轮异常处理: 丢失分号的情况\n",
    "\n",
    "    #先把上次匹配的东西加回来\n",
    "    dirty=backupstring+dirty"
   ]
  },
  {
   "cell_type": "code",
   "execution_count": null,
   "metadata": {
    "tags": []
   },
   "outputs": [],
   "source": [
    "print(dirty)"
   ]
  },
  {
   "cell_type": "code",
   "execution_count": null,
   "metadata": {
    "tags": []
   },
   "outputs": [],
   "source": [
    "    patten4=\"(\\d*):(\\d{3}).*\"\n",
    "    #先确认是不是真的丢失了分号,,先把上次的东西弄出来\n",
    "    groups=re.match(patten1, dirty).groups()\n",
    "    checkString=groups[0]\n",
    "    print(checkString)\n",
    "    checkString=checkString[::-1]\n",
    "    print(checkString)\n",
    "    lossFenHaoObj=re.match(patten4, checkString)\n",
    "    if lossFenHaoObj==None:\n",
    "        print(lossFenHaoObj)\n",
    "    else:\n",
    "        print(lossFenHaoObj.groups())\n",
    "    "
   ]
  },
  {
   "cell_type": "code",
   "execution_count": null,
   "metadata": {
    "tags": []
   },
   "outputs": [],
   "source": [
    "if lossFenHaoObj !=None:\n",
    "        #说明前一个正常, 且确实和后一个中间少了分号\n",
    "        #先把前一个正常的拿出来\n",
    "        yesGroup1=(lossFenHaoObj.group(2)[::-1], lossFenHaoObj.group(1)[::-1])\n",
    "        print(yesGroup1)\n",
    " \n",
    "        #说明不是丢失分号的问题, \n",
    "\n",
    "    #raise NotMatchException(dirty)"
   ]
  },
  {
   "cell_type": "code",
   "execution_count": null,
   "metadata": {
    "tags": []
   },
   "outputs": [],
   "source": [
    "patten5=\"(\\d*?):(\\d{3})(\\d*?):(\\d{3})\"\n",
    "patten6=\"[^\\u002E:;0-9]*(\\d{3}):(\\d+?)(\\d{3}):(\\d+)[^0-9]*\" #专门用来同时找出两组的正则\n",
    "groups=re.match(patten6, dirty)\n",
    "if groups==None:\n",
    "    print(groups)# 这个会匹配出失去的分号两边的组合\n",
    "    raise NotMatchException(dirty)\n",
    "else:\n",
    "    print(groups.groups())\n",
    "    print(groups.group(0))\n",
    "    wait2Write=groups.groups()[0]+':'+groups.groups(0)[1]+';'+groups.groups()[2]+':'+groups.groups()[3]+';'\n",
    "    print(wait2Write)\n",
    "    dirty=dirty[dirty.find(group(0)+len(groups.group(0)):]\n"
   ]
  },
  {
   "cell_type": "code",
   "execution_count": null,
   "metadata": {
    "tags": []
   },
   "outputs": [],
   "source": [
    "checkString=groups[0]\n",
    "print(checkString)\n",
    "checkString=checkString[::-1]\n",
    "print(checkString)\n",
    "lossFenHaoObj=re.match(patten5, checkString)\n",
    "if lossFenHaoObj==None:\n",
    "    print(lossFenHaoObj)\n",
    "else:\n",
    "    print(lossFenHaoObj.groups())"
   ]
  },
  {
   "cell_type": "code",
   "execution_count": null,
   "metadata": {},
   "outputs": [],
   "source": []
  }
 ]
}